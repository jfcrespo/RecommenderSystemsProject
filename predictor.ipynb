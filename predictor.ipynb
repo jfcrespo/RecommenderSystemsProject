{
 "cells": [
  {
   "cell_type": "code",
   "execution_count": 9,
   "id": "14594d59-356a-4ec0-bfcf-d8b1d4ab415f",
   "metadata": {},
   "outputs": [],
   "source": [
    "from torch.utils.data import Dataset, DataLoader\n",
    "from datasets import load_dataset, concatenate_datasets, load_from_disk\n",
    "import time\n",
    "import pdb\n",
    "import glob"
   ]
  },
  {
   "cell_type": "code",
   "execution_count": 5,
   "id": "2d52fd30-f214-4f34-a715-9047f9ce39c4",
   "metadata": {},
   "outputs": [],
   "source": [
    "chunks = glob.glob('chunks/featurized_chunks_*')\n"
   ]
  },
  {
   "cell_type": "code",
   "execution_count": 10,
   "id": "140676e1-30f0-4513-89b3-c1fba15df1e9",
   "metadata": {},
   "outputs": [
    {
     "name": "stdout",
     "output_type": "stream",
     "text": [
      "Reading chunk chunks/featurized_chunks_603\n",
      "Reading chunk chunks/featurized_chunks_258\n",
      "Reading chunk chunks/featurized_chunks_294\n",
      "Reading chunk chunks/featurized_chunks_851\n",
      "Reading chunk chunks/featurized_chunks_409\n",
      "Reading chunk chunks/featurized_chunks_455\n",
      "Reading chunk chunks/featurized_chunks_268\n",
      "Reading chunk chunks/featurized_chunks_75\n",
      "Reading chunk chunks/featurized_chunks_574\n",
      "Reading chunk chunks/featurized_chunks_10\n",
      "Reading chunk chunks/featurized_chunks_315\n",
      "Reading chunk chunks/featurized_chunks_722\n",
      "Reading chunk chunks/featurized_chunks_510\n",
      "Reading chunk chunks/featurized_chunks_193\n",
      "Reading chunk chunks/featurized_chunks_595\n",
      "Reading chunk chunks/featurized_chunks_753\n",
      "Reading chunk chunks/featurized_chunks_94\n",
      "Reading chunk chunks/featurized_chunks_95\n",
      "Reading chunk chunks/featurized_chunks_594\n",
      "Reading chunk chunks/featurized_chunks_8\n",
      "Reading chunk chunks/featurized_chunks_244\n",
      "Reading chunk chunks/featurized_chunks_415\n",
      "Reading chunk chunks/featurized_chunks_287\n",
      "Reading chunk chunks/featurized_chunks_280\n",
      "Reading chunk chunks/featurized_chunks_874\n",
      "Reading chunk chunks/featurized_chunks_220\n",
      "Reading chunk chunks/featurized_chunks_688\n",
      "Reading chunk chunks/featurized_chunks_263\n",
      "Reading chunk chunks/featurized_chunks_691\n",
      "Reading chunk chunks/featurized_chunks_262\n",
      "Reading chunk chunks/featurized_chunks_372\n",
      "Reading chunk chunks/featurized_chunks_579\n",
      "Reading chunk chunks/featurized_chunks_345\n",
      "Reading chunk chunks/featurized_chunks_184\n",
      "Reading chunk chunks/featurized_chunks_41\n",
      "Reading chunk chunks/featurized_chunks_333\n",
      "Reading chunk chunks/featurized_chunks_106\n",
      "Reading chunk chunks/featurized_chunks_759\n",
      "Reading chunk chunks/featurized_chunks_305\n",
      "Reading chunk chunks/featurized_chunks_500\n",
      "Reading chunk chunks/featurized_chunks_732\n",
      "Reading chunk chunks/featurized_chunks_793\n",
      "Reading chunk chunks/featurized_chunks_564\n",
      "Reading chunk chunks/featurized_chunks_539\n",
      "Reading chunk chunks/featurized_chunks_840\n",
      "Reading chunk chunks/featurized_chunks_426\n"
     ]
    }
   ],
   "source": [
    "datasets = []\n",
    "for c in chunks:\n",
    "    print(f\"Reading chunk {c}\")\n",
    "    dataset = load_from_disk(c)\n",
    "    datasets.append(dataset)\n",
    "\n",
    "# Concatenate all datasets into a single dataset\n",
    "dataset = concatenate_datasets(datasets[:2])"
   ]
  },
  {
   "cell_type": "code",
   "execution_count": 11,
   "id": "131d7d37-d78f-4c34-ba7d-e09362c83b51",
   "metadata": {},
   "outputs": [
    {
     "data": {
      "text/plain": [
       "Dataset({\n",
       "    features: ['user_id', 'rating', 'helpful_vote', 'timestamp', 'asin', 'text', 'title', 'parent_asin', 'verified_purchase', 'embedding'],\n",
       "    num_rows: 100000\n",
       "})"
      ]
     },
     "execution_count": 11,
     "metadata": {},
     "output_type": "execute_result"
    }
   ],
   "source": [
    "dataset"
   ]
  },
  {
   "cell_type": "code",
   "execution_count": 12,
   "id": "c3fcc435-c343-46c5-a805-0e1749eb0e73",
   "metadata": {},
   "outputs": [
    {
     "data": {
      "application/vnd.jupyter.widget-view+json": {
       "model_id": "b74c3fad4a0f471691b7769c120586d0",
       "version_major": 2,
       "version_minor": 0
      },
      "text/plain": [
       "Saving the dataset (0/32 shards):   0%|          | 0/100000 [00:00<?, ? examples/s]"
      ]
     },
     "metadata": {},
     "output_type": "display_data"
    }
   ],
   "source": [
    "# Reshard dataset to 32 shards\n",
    "dataset.save_to_disk(\"dataset\", num_shards=32)"
   ]
  },
  {
   "cell_type": "code",
   "execution_count": 13,
   "id": "d5ae924c-9349-4308-a549-125e481e9b5c",
   "metadata": {},
   "outputs": [
    {
     "data": {
      "application/vnd.jupyter.widget-view+json": {
       "model_id": "19917b47bb1a44c1821f4e4fb8ed0c2f",
       "version_major": 2,
       "version_minor": 0
      },
      "text/plain": [
       "Loading dataset from disk:   0%|          | 0/32 [00:00<?, ?it/s]"
      ]
     },
     "metadata": {},
     "output_type": "display_data"
    }
   ],
   "source": [
    "# Now reload\n",
    "dataset = load_from_disk(\"dataset\",keep_in_memory=True)"
   ]
  },
  {
   "cell_type": "code",
   "execution_count": 14,
   "id": "056301ba-e78f-4a4b-a7ee-9164d5cfd466",
   "metadata": {},
   "outputs": [
    {
     "data": {
      "text/plain": [
       "Dataset({\n",
       "    features: ['user_id', 'rating', 'helpful_vote', 'timestamp', 'asin', 'text', 'title', 'parent_asin', 'verified_purchase', 'embedding'],\n",
       "    num_rows: 100000\n",
       "})"
      ]
     },
     "execution_count": 14,
     "metadata": {},
     "output_type": "execute_result"
    }
   ],
   "source": [
    "dataset"
   ]
  },
  {
   "cell_type": "code",
   "execution_count": 15,
   "id": "2f293576-1181-4f44-a4c7-407b94d14a64",
   "metadata": {},
   "outputs": [],
   "source": [
    "train_test_dataset = dataset.train_test_split(test_size=0.1)\n",
    "train_dataset = train_test_dataset['train']\n",
    "test_dataset = train_test_dataset['test']\n",
    "# borrow another 10% from the train set to act as validation\n",
    "train_valid= train_dataset.train_test_split(test_size=0.1)\n",
    "train_dataset = train_valid['train']\n",
    "valid_dataset = train_valid['test']\n"
   ]
  },
  {
   "cell_type": "code",
   "execution_count": null,
   "id": "0ef6ba4a-95c2-45a2-8eae-3f613c448456",
   "metadata": {},
   "outputs": [],
   "source": [
    "from sklearn import linear_model\n",
    "from sklearn.metrics import mean_squared_error\n",
    "import sklearn\n",
    "\n",
    "# Total size of data\n",
    "N = len(train_dataset)\n",
    "\n",
    "X = [[1] + fv['embedding'] for fv in train_dataset]\n",
    "y = train_dataset['rating']\n",
    "\n",
    "X_valid = [[1] + fv['embedding'] for fv in valid_dataset]\n",
    "y_valid = valid_dataset['rating']\n",
    "\n",
    "X_test = [[1] + fv['embedding'] for fv in test_dataset]\n",
    "y_test = test_dataset['rating']\n",
    "\n",
    "model_lr = sklearn.linear_model.Ridge(1, fit_intercept=False)\n",
    "model_lr.fit(X_train, y_train)\n",
    "\n",
    "y_pred = model_lr.predict(X_valid)\n",
    "mse = mean_squared_error(y_valid, y_pred)\n",
    "print(f\"Mean Squared Error: {mse}\") "
   ]
  },
  {
   "cell_type": "code",
   "execution_count": null,
   "id": "026a98eb-2477-4bef-9d64-7c9381627831",
   "metadata": {},
   "outputs": [],
   "source": []
  }
 ],
 "metadata": {
  "kernelspec": {
   "display_name": "Python 3 (ipykernel)",
   "language": "python",
   "name": "python3"
  },
  "language_info": {
   "codemirror_mode": {
    "name": "ipython",
    "version": 3
   },
   "file_extension": ".py",
   "mimetype": "text/x-python",
   "name": "python",
   "nbconvert_exporter": "python",
   "pygments_lexer": "ipython3",
   "version": "3.12.1"
  }
 },
 "nbformat": 4,
 "nbformat_minor": 5
}
