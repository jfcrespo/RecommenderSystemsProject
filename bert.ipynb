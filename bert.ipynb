{
 "cells": [
  {
   "cell_type": "markdown",
   "metadata": {},
   "source": [
    "## Using BERT models from Google to embed the review text"
   ]
  },
  {
   "cell_type": "code",
   "execution_count": null,
   "metadata": {},
   "outputs": [],
   "source": [
    "from torch.utils.data import Dataset, DataLoader\n",
    "from datasets import load_dataset\n",
    "import time\n",
    "import pdb\n",
    "import glob"
   ]
  },
  {
   "cell_type": "code",
   "execution_count": null,
   "metadata": {},
   "outputs": [],
   "source": [
    "# Get all chunk files from the chunks folder\n",
    "chunks = glob.glob('chunks/chunk_*.parquet')\n",
    "\n",
    "datafiles = chunks\n",
    "dataset = load_dataset(\"parquet\", data_files=datafiles)\n",
    "dataset['train'].train_test_split(test_size=0.1)"
   ]
  },
  {
   "cell_type": "code",
   "execution_count": null,
   "metadata": {},
   "outputs": [],
   "source": [
    "from transformers import pipeline, AutoTokenizer, AutoModel\n",
    "\n",
    "model_name = \"bert-base-uncased\"  # Choose a pre-trained model\n",
    "tokenizer = AutoTokenizer.from_pretrained(model_name)\n",
    "#model = AutoModel.from_pretrained(model_name)\n",
    "\n",
    "extractor = pipeline(\n",
    "    'feature-extraction', # We're just interested in the embeddings\n",
    "    model=model_name, # Use BERT\n",
    "    device=0, # Use the GPU\n",
    "    framework=\"pt\"\n",
    ")\n",
    "\n",
    "def embed(datum):\n",
    "    # Texts is a list of texts. This is called batching, and it's more\n",
    "    # efficient than running two separate embedding calls.\n",
    "    embeddings = extractor(datum['text'],padding=\"longest\", truncation=True)\n",
    "\n",
    "    # Since we are using a BERT model, we can just use the first embedding, which is\n",
    "    # for the special token CLS. CLS is known ad the \"phrase embedding\"\n",
    "    return { 'embedding': embeddings[0][0] }\n",
    "\n",
    "# Fastest feature extraction possible, using Huggingface datasets.\n",
    "def batch_embed(datum):\n",
    "    \n",
    "    features = extractor(datum['text'], padding=\"longest\", truncation=True)\n",
    "    batch_size = len(datum['text'])\n",
    "    if batch_size > 1:\n",
    "        # We're in batch mode, so massage the data differently\n",
    "        batched_features = []\n",
    "        for b in range(batch_size):\n",
    "            # Since we are using a BERT model, we can just use the first embedding, which is\n",
    "            # for the special token CLS. CLS is known ad the \"phrase embedding\"\n",
    "            batched_features.append(features[b][0][0])\n",
    "        return {'embedding': batched_features }\n",
    "\n",
    "def tokenize(example):\n",
    "    return tokenizer(example['text'], padding=\"longest\", truncation=True, max_length=512)\n"
   ]
  },
  {
   "cell_type": "code",
   "execution_count": null,
   "metadata": {},
   "outputs": [],
   "source": [
    "import random\n",
    "\n",
    "random.shuffle(chunks)\n",
    "\n",
    "batch_size=8\n",
    "\n",
    "for c in chunks:\n",
    "    # Load the parquet chunk\n",
    "    data_chunk = load_dataset(\"parquet\", data_files=c,split='train')\n",
    "\n",
    "    chunk_number = c.split(\"_\")[1].split(\".\")[0]\n",
    "    print(f\"Processing chunk {chunk_number} using batch size {batch_size}\")\n",
    "    \n",
    "    if batch_size > 1:\n",
    "        data_chunk = data_chunk.map(batch_embed, batched=True, batch_size=batch_size)\n",
    "    else:\n",
    "        data_chunk = data_chunk.map(embed, batched=False)\n",
    "\n",
    "    # Save featurized chunk\n",
    "    output_file = f\"chunks/featurized_chunks_{chunk_number}\"\n",
    "    print(f\"Saving featurized chunk {output_file} to disk\")\n",
    "    data_chunk.save_to_disk(output_file)\n",
    "\n",
    "print(\"All done!\")\n"
   ]
  },
  {
   "cell_type": "code",
   "execution_count": null,
   "metadata": {},
   "outputs": [],
   "source": [
    "from sklearn import linear_model\n",
    "from sklearn.metrics import mean_squared_error\n",
    "\n",
    "# Total size of data\n",
    "N = len(dataset)\n",
    "\n",
    "X = [[1] + fv for fv in dataset['embedding']]\n",
    "y = dataset['rating']\n",
    "\n",
    "Ntrain,Nvalid,Ntest = int(N*0.8), int(N*0.1), int(N*0.1)\n",
    "X_train,X_valid,X_test = X[:Ntrain],X[Ntrain:Ntrain+Nvalid],X[Ntrain+Nvalid:]\n",
    "y_train,y_valid,y_test = y[:Ntrain],y[Ntrain:Ntrain+Nvalid],y[Ntrain+Nvalid:]\n",
    "\n",
    "model_lr = sklearn.linear_model.Ridge(1, fit_intercept=False)\n",
    "model_lr.fit(X_train, y_train)\n",
    "\n",
    "y_pred = model_lr.predict(X_valid)\n",
    "mse = mean_squared_error(y_valid, y_pred)\n",
    "print(f\"Mean Squared Error: {mse}\") "
   ]
  }
 ],
 "metadata": {
  "kernelspec": {
   "display_name": "Python 3 (ipykernel)",
   "language": "python",
   "name": "python3"
  },
  "language_info": {
   "codemirror_mode": {
    "name": "ipython",
    "version": 3
   },
   "file_extension": ".py",
   "mimetype": "text/x-python",
   "name": "python",
   "nbconvert_exporter": "python",
   "pygments_lexer": "ipython3",
   "version": "3.12.1"
  }
 },
 "nbformat": 4,
 "nbformat_minor": 4
}
